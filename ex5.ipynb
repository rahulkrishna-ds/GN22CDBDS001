{
  "nbformat": 4,
  "nbformat_minor": 0,
  "metadata": {
    "colab": {
      "name": "ex5.ipynb",
      "provenance": [],
      "authorship_tag": "ABX9TyPh00nr+XRTgxnKh+FA8hRr",
      "include_colab_link": true
    },
    "kernelspec": {
      "name": "python3",
      "display_name": "Python 3"
    },
    "language_info": {
      "name": "python"
    }
  },
  "cells": [
    {
      "cell_type": "markdown",
      "metadata": {
        "id": "view-in-github",
        "colab_type": "text"
      },
      "source": [
        "<a href=\"https://colab.research.google.com/github/rahulvudari/GN22CDBDS001/blob/main/ex5.ipynb\" target=\"_parent\"><img src=\"https://colab.research.google.com/assets/colab-badge.svg\" alt=\"Open In Colab\"/></a>"
      ]
    },
    {
      "cell_type": "code",
      "source": [
        "%%writefile -a truthtable.py\n",
        "\n",
        "def binary(ele, n):\n",
        "  s = ''\n",
        "  while ele:\n",
        "    s += str(ele%2)\n",
        "    ele = ele//2\n",
        "  fill = n - len(s)\n",
        "  return '0'*fill+s[::-1]\n",
        "n = int(input())\n",
        "total = 2**n\n",
        "for ele in range(total):\n",
        "  print(binary(ele, n))"
      ],
      "metadata": {
        "colab": {
          "base_uri": "https://localhost:8080/"
        },
        "id": "mVR0C_iVnNHA",
        "outputId": "2495bc74-583a-4e7c-8b29-b51b8c2c0266"
      },
      "execution_count": 10,
      "outputs": [
        {
          "output_type": "stream",
          "name": "stdout",
          "text": [
            "Writing truthtable.py\n"
          ]
        }
      ]
    },
    {
      "cell_type": "code",
      "source": [
        "!cat truthtable.py"
      ],
      "metadata": {
        "colab": {
          "base_uri": "https://localhost:8080/"
        },
        "id": "kHAa40i5u5QV",
        "outputId": "a6e34d16-9a20-4425-e4d1-7e98bff811ba"
      },
      "execution_count": 13,
      "outputs": [
        {
          "output_type": "stream",
          "name": "stdout",
          "text": [
            "\n",
            "def binary(ele, n):\n",
            "  s = ''\n",
            "  while ele:\n",
            "    s += str(ele%2)\n",
            "    ele = ele//2\n",
            "  fill = n - len(s)\n",
            "  return '0'*fill+s[::-1]\n",
            "n = int(input())\n",
            "total = 2**n\n",
            "for ele in range(total):\n",
            "  print(binary(ele, n))"
          ]
        }
      ]
    },
    {
      "cell_type": "code",
      "source": [
        "!python truthtable.py"
      ],
      "metadata": {
        "colab": {
          "base_uri": "https://localhost:8080/"
        },
        "id": "befH6TfCvUTj",
        "outputId": "6b639e04-4f32-4955-904a-d539ebea0fa9"
      },
      "execution_count": 14,
      "outputs": [
        {
          "output_type": "stream",
          "name": "stdout",
          "text": [
            "4\n",
            "0000\n",
            "0001\n",
            "0010\n",
            "0011\n",
            "0100\n",
            "0101\n",
            "0110\n",
            "0111\n",
            "1000\n",
            "1001\n",
            "1010\n",
            "1011\n",
            "1100\n",
            "1101\n",
            "1110\n",
            "1111\n"
          ]
        }
      ]
    }
  ]
}