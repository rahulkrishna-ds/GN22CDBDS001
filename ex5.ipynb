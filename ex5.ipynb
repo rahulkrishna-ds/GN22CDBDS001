{
  "nbformat": 4,
  "nbformat_minor": 0,
  "metadata": {
    "colab": {
      "name": "ex5.ipynb",
      "provenance": [],
      "authorship_tag": "ABX9TyOvVwyD/2362PViecbP+lpr",
      "include_colab_link": true
    },
    "kernelspec": {
      "name": "python3",
      "display_name": "Python 3"
    },
    "language_info": {
      "name": "python"
    }
  },
  "cells": [
    {
      "cell_type": "markdown",
      "metadata": {
        "id": "view-in-github",
        "colab_type": "text"
      },
      "source": [
        "<a href=\"https://colab.research.google.com/github/rahulvudari/GN22CDBDS001/blob/main/ex5.ipynb\" target=\"_parent\"><img src=\"https://colab.research.google.com/assets/colab-badge.svg\" alt=\"Open In Colab\"/></a>"
      ]
    },
    {
      "cell_type": "code",
      "execution_count": 5,
      "metadata": {
        "colab": {
          "base_uri": "https://localhost:8080/"
        },
        "id": "zZKVStrhnISm",
        "outputId": "8bf7a6d8-edee-4f1b-b870-0cb53693c0ee"
      },
      "outputs": [
        {
          "output_type": "stream",
          "name": "stdout",
          "text": [
            "000\n",
            "001\n",
            "010\n",
            "011\n",
            "100\n",
            "101\n",
            "110\n",
            "111\n"
          ]
        }
      ],
      "source": [
        "n = 3\n",
        "total = 2**n\n",
        "for ele in range(total):\n",
        "  print(bin(ele)[2:].zfill(n))"
      ]
    },
    {
      "cell_type": "code",
      "source": [
        "n = int(input())\n",
        "total = 2**n\n",
        "for ele in range(total):\n",
        "  print(bin(ele)[2:].zfill(n))"
      ],
      "metadata": {
        "colab": {
          "base_uri": "https://localhost:8080/"
        },
        "id": "mVR0C_iVnNHA",
        "outputId": "27dfecc6-5ec6-44a4-f4c9-8287f5c0315e"
      },
      "execution_count": 4,
      "outputs": [
        {
          "output_type": "stream",
          "name": "stdout",
          "text": [
            "4\n",
            "0000\n",
            "0001\n",
            "0010\n",
            "0011\n",
            "0100\n",
            "0101\n",
            "0110\n",
            "0111\n",
            "1000\n",
            "1001\n",
            "1010\n",
            "1011\n",
            "1100\n",
            "1101\n",
            "1110\n",
            "1111\n"
          ]
        }
      ]
    }
  ]
}