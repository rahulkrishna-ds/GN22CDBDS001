{
  "nbformat": 4,
  "nbformat_minor": 0,
  "metadata": {
    "colab": {
      "name": "ex5.ipynb",
      "provenance": [],
      "authorship_tag": "ABX9TyNtmSM3x+LOtTDLRp2D1sL7",
      "include_colab_link": true
    },
    "kernelspec": {
      "name": "python3",
      "display_name": "Python 3"
    },
    "language_info": {
      "name": "python"
    }
  },
  "cells": [
    {
      "cell_type": "markdown",
      "metadata": {
        "id": "view-in-github",
        "colab_type": "text"
      },
      "source": [
        "<a href=\"https://colab.research.google.com/github/rahulvudari/GN22CDBDS001/blob/main/ex5.ipynb\" target=\"_parent\"><img src=\"https://colab.research.google.com/assets/colab-badge.svg\" alt=\"Open In Colab\"/></a>"
      ]
    },
    {
      "cell_type": "code",
      "source": [
        "def binary(ele, n):\n",
        "  s = ''\n",
        "  while ele:\n",
        "    s += str(ele%2)\n",
        "    ele = ele//2\n",
        "  fill = n - len(s)\n",
        "  return '0'*fill+s[::-1]\n",
        "n = int(input())\n",
        "total = 2**n\n",
        "for ele in range(total):\n",
        "  print(binary(ele, n))"
      ],
      "metadata": {
        "colab": {
          "base_uri": "https://localhost:8080/"
        },
        "id": "mVR0C_iVnNHA",
        "outputId": "ca857c3d-61c1-4cd4-8979-1bb177e265bd"
      },
      "execution_count": 9,
      "outputs": [
        {
          "output_type": "stream",
          "name": "stdout",
          "text": [
            "4\n",
            "0000\n",
            "0001\n",
            "0010\n",
            "0011\n",
            "0100\n",
            "0101\n",
            "0110\n",
            "0111\n",
            "1000\n",
            "1001\n",
            "1010\n",
            "1011\n",
            "1100\n",
            "1101\n",
            "1110\n",
            "1111\n"
          ]
        }
      ]
    }
  ]
}