{
  "nbformat": 4,
  "nbformat_minor": 0,
  "metadata": {
    "colab": {
      "name": "ex5.ipynb",
      "provenance": [],
      "authorship_tag": "ABX9TyP1VeI1Xf4V3MzLdKBbQ8wi",
      "include_colab_link": true
    },
    "kernelspec": {
      "name": "python3",
      "display_name": "Python 3"
    },
    "language_info": {
      "name": "python"
    }
  },
  "cells": [
    {
      "cell_type": "markdown",
      "metadata": {
        "id": "view-in-github",
        "colab_type": "text"
      },
      "source": [
        "<a href=\"https://colab.research.google.com/github/rahulvudari/GN22CDBDS001/blob/main/ex5.ipynb\" target=\"_parent\"><img src=\"https://colab.research.google.com/assets/colab-badge.svg\" alt=\"Open In Colab\"/></a>"
      ]
    },
    {
      "cell_type": "code",
      "source": [
        "%%writefile -a truthtable.py\n",
        "\n",
        "def binary(ele, n):\n",
        "  s = ''\n",
        "  while ele:\n",
        "    s += str(ele%2)\n",
        "    ele = ele//2\n",
        "  fill = n - len(s)\n",
        "  return '0'*fill+s[::-1]\n",
        "n = int(input())\n",
        "total = 2**n\n",
        "for ele in range(total):\n",
        "  print(binary(ele, n))"
      ],
      "metadata": {
        "colab": {
          "base_uri": "https://localhost:8080/"
        },
        "id": "mVR0C_iVnNHA",
        "outputId": "2495bc74-583a-4e7c-8b29-b51b8c2c0266"
      },
      "execution_count": 10,
      "outputs": [
        {
          "output_type": "stream",
          "name": "stdout",
          "text": [
            "Writing truthtable.py\n"
          ]
        }
      ]
    }
  ]
}