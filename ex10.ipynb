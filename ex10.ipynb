{
  "nbformat": 4,
  "nbformat_minor": 0,
  "metadata": {
    "colab": {
      "name": "ex10.ipynb",
      "provenance": [],
      "authorship_tag": "ABX9TyNlmU/BAtnAf/E8QhKVmWv9",
      "include_colab_link": true
    },
    "kernelspec": {
      "name": "python3",
      "display_name": "Python 3"
    },
    "language_info": {
      "name": "python"
    }
  },
  "cells": [
    {
      "cell_type": "markdown",
      "metadata": {
        "id": "view-in-github",
        "colab_type": "text"
      },
      "source": [
        "<a href=\"https://colab.research.google.com/github/rahulvudari/GN22CDBDS001/blob/main/ex10.ipynb\" target=\"_parent\"><img src=\"https://colab.research.google.com/assets/colab-badge.svg\" alt=\"Open In Colab\"/></a>"
      ]
    },
    {
      "cell_type": "code",
      "execution_count": 32,
      "metadata": {
        "colab": {
          "base_uri": "https://localhost:8080/"
        },
        "id": "KY9Re1TbypvU",
        "outputId": "07700299-9e86-4370-c848-cb9e87efd159"
      },
      "outputs": [
        {
          "output_type": "stream",
          "name": "stdout",
          "text": [
            "Writing truthtable2.py\n"
          ]
        }
      ],
      "source": [
        "%%writefile -a truthtable2.py\n",
        "try:\n",
        "  n = int(input())\n",
        "  if n > 16:\n",
        "    print(\"Sorry, base number should be less than 16\")\n",
        "    raise Exception()\n",
        "  def convert(ele, base):\n",
        "    if ele == 0:return ele\n",
        "    s = ''\n",
        "    while ele:\n",
        "      mod = ele%base\n",
        "      if mod > 9:\n",
        "        mod = chr(65+mod-10)\n",
        "      s += str(mod)\n",
        "      ele = ele//base\n",
        "    return s[::-1]\n",
        "\n",
        "  for ele1 in range(50):\n",
        "    print(convert(ele1, n))\n",
        "except:\n",
        "  print('An error as occured')"
      ]
    },
    {
      "cell_type": "code",
      "source": [
        "!python truthtable2.py"
      ],
      "metadata": {
        "colab": {
          "base_uri": "https://localhost:8080/"
        },
        "id": "ZzEhqiqv0R-6",
        "outputId": "b2417e19-4e09-4227-9d02-23ba41f03561"
      },
      "execution_count": 33,
      "outputs": [
        {
          "output_type": "stream",
          "name": "stdout",
          "text": [
            "17\n",
            "Sorry, base number should be less than 16\n",
            "An error as occured\n"
          ]
        }
      ]
    },
    {
      "cell_type": "code",
      "source": [
        "!cat truthtable2.py"
      ],
      "metadata": {
        "colab": {
          "base_uri": "https://localhost:8080/"
        },
        "id": "IpVC-L0Y0_e9",
        "outputId": "a3234dc8-991d-48d9-a5d6-ca1b5abd7d3c"
      },
      "execution_count": 19,
      "outputs": [
        {
          "output_type": "stream",
          "name": "stdout",
          "text": [
            "try:\n",
            "  n = int(input())\n",
            "  def convert(ele, base):\n",
            "    if ele == 0:return ele\n",
            "    s = ''\n",
            "    while ele:\n",
            "      mod = ele%base\n",
            "      if mod > 9:\n",
            "        mod = chr(65+mod-10)\n",
            "      s += str(mod)\n",
            "      ele = ele//base\n",
            "    return s[::-1]\n",
            "\n",
            "  for ele1 in range(50):\n",
            "    print(convert(ele1, n))\n",
            "except:\n",
            "  print('An error as occured')"
          ]
        }
      ]
    },
    {
      "cell_type": "code",
      "source": [
        "!python truthtable2.py"
      ],
      "metadata": {
        "colab": {
          "base_uri": "https://localhost:8080/"
        },
        "id": "XxvDEMpr0cSZ",
        "outputId": "be421198-7310-4ee8-c474-616279f4c5fd"
      },
      "execution_count": 20,
      "outputs": [
        {
          "output_type": "stream",
          "name": "stdout",
          "text": [
            "10\n",
            "0\n",
            "1\n",
            "2\n",
            "3\n",
            "4\n",
            "5\n",
            "6\n",
            "7\n",
            "8\n",
            "9\n",
            "10\n",
            "11\n",
            "12\n",
            "13\n",
            "14\n",
            "15\n",
            "16\n",
            "17\n",
            "18\n",
            "19\n",
            "20\n",
            "21\n",
            "22\n",
            "23\n",
            "24\n",
            "25\n",
            "26\n",
            "27\n",
            "28\n",
            "29\n",
            "30\n",
            "31\n",
            "32\n",
            "33\n",
            "34\n",
            "35\n",
            "36\n",
            "37\n",
            "38\n",
            "39\n",
            "40\n",
            "41\n",
            "42\n",
            "43\n",
            "44\n",
            "45\n",
            "46\n",
            "47\n",
            "48\n",
            "49\n"
          ]
        }
      ]
    },
    {
      "cell_type": "code",
      "source": [
        "!python truthtable2.py"
      ],
      "metadata": {
        "colab": {
          "base_uri": "https://localhost:8080/"
        },
        "id": "L052APqk1XX0",
        "outputId": "da180648-0521-443d-99b5-93e7079703c9"
      },
      "execution_count": 22,
      "outputs": [
        {
          "output_type": "stream",
          "name": "stdout",
          "text": [
            "2\n",
            "0\n",
            "1\n",
            "10\n",
            "11\n",
            "100\n",
            "101\n",
            "110\n",
            "111\n",
            "1000\n",
            "1001\n",
            "1010\n",
            "1011\n",
            "1100\n",
            "1101\n",
            "1110\n",
            "1111\n",
            "10000\n",
            "10001\n",
            "10010\n",
            "10011\n",
            "10100\n",
            "10101\n",
            "10110\n",
            "10111\n",
            "11000\n",
            "11001\n",
            "11010\n",
            "11011\n",
            "11100\n",
            "11101\n",
            "11110\n",
            "11111\n",
            "100000\n",
            "100001\n",
            "100010\n",
            "100011\n",
            "100100\n",
            "100101\n",
            "100110\n",
            "100111\n",
            "101000\n",
            "101001\n",
            "101010\n",
            "101011\n",
            "101100\n",
            "101101\n",
            "101110\n",
            "101111\n",
            "110000\n",
            "110001\n"
          ]
        }
      ]
    }
  ]
}